{
  "nbformat": 4,
  "nbformat_minor": 0,
  "metadata": {
    "colab": {
      "name": "Atividade_2_probabilidade.ipynb",
      "provenance": [],
      "collapsed_sections": []
    },
    "kernelspec": {
      "name": "python3",
      "display_name": "Python 3"
    }
  },
  "cells": [
    {
      "cell_type": "code",
      "metadata": {
        "id": "6vxl6GpwaoRW"
      },
      "source": [
        "from scipy.stats import binom, nbinom, poisson\n",
        "import numpy as np\n",
        "import matplotlib.pyplot as plt\n",
        "import seaborn as sea\n",
        "import statistics as st\n",
        "from tabulate import tabulate"
      ],
      "execution_count": null,
      "outputs": []
    },
    {
      "cell_type": "code",
      "metadata": {
        "id": "AOr6l77ecb18"
      },
      "source": [
        "#Matriz abaixo para as QUESTÕES 1, 2 e 3\n",
        "\n",
        "headers_genero = ['Idade (anos)', 'Feminino', 'Masculino', 'Total']\n",
        "\n",
        "genero = [\n",
        "['18 | --- 25', 26, 28, 54],\n",
        "['25 | --- 35', 18, 15, 33],\n",
        "['35 | --- 45', 9, 11, 20],\n",
        "['45 | --- 55', 0, 10, 10],\n",
        "['55 | --- 65', 2, 6, 8],\n",
        "['Total', 55, 70, 125]\n",
        "]"
      ],
      "execution_count": null,
      "outputs": []
    },
    {
      "cell_type": "code",
      "metadata": {
        "id": "ZJPiKKAUcoqk",
        "colab": {
          "base_uri": "https://localhost:8080/"
        },
        "outputId": "2b4ccb29-ec07-4625-ba58-d320c9859ddd"
      },
      "source": [
        "print(tabulate(genero, headers=headers_genero, floatfmt=\".4f\", numalign=\"right\"))"
      ],
      "execution_count": null,
      "outputs": [
        {
          "output_type": "stream",
          "text": [
            "Idade (anos)      Feminino    Masculino    Total\n",
            "--------------  ----------  -----------  -------\n",
            "18 | --- 25             26           28       54\n",
            "25 | --- 35             18           15       33\n",
            "35 | --- 45              9           11       20\n",
            "45 | --- 55              0           10       10\n",
            "55 | --- 65              2            6        8\n",
            "Total                   55           70      125\n"
          ],
          "name": "stdout"
        }
      ]
    },
    {
      "cell_type": "markdown",
      "metadata": {
        "id": "oaFaqk60bLE1"
      },
      "source": [
        "**Questão 1**\n",
        "\n",
        "Probabilidade de sortear um funcionário com idade entre 35 menos de  55 anos.\n",
        "\n",
        "P(35 <= idade < 55)"
      ]
    },
    {
      "cell_type": "code",
      "metadata": {
        "id": "cd0QIXhPbKGQ",
        "colab": {
          "base_uri": "https://localhost:8080/"
        },
        "outputId": "20f56572-3b81-4c12-c628-f747b527bbe6"
      },
      "source": [
        "print(\"De 35 a 44 = \",genero[2][3])\n",
        "print(\"De 45 a 54 = \",genero[3][3])\n",
        "P35_54 = genero[2][3] + genero[3][3]\n",
        "print(\"P(35~54) = \", P35_54)\n",
        "\n",
        "print(\"\\nTotal da Amostragem = \", genero[5][3])\n",
        "print(\"P(35 <= idade < 55) = \", P35_54 / genero[5][3]) #dividindo por 5, dá 6/25"
      ],
      "execution_count": null,
      "outputs": [
        {
          "output_type": "stream",
          "text": [
            "De 35 a 44 =  20\n",
            "De 45 a 54 =  10\n",
            "P(35~54) =  30\n",
            "\n",
            "Total da Amostragem =  125\n",
            "P(35 <= idade < 55) =  0.24\n"
          ],
          "name": "stdout"
        }
      ]
    },
    {
      "cell_type": "markdown",
      "metadata": {
        "id": "ueGdpqSIgoB7"
      },
      "source": [
        "Dividindo por 5, 30/125 = 6/25. \n",
        "\n",
        "Resposta: Alternativa C: 6/25."
      ]
    },
    {
      "cell_type": "markdown",
      "metadata": {
        "id": "q8KH4NgBgz3Q"
      },
      "source": [
        "**Questão 2**\n",
        "\n",
        "Sabendo-se que o funcionário é do gênero feminino, qual a probabilidade dela ter entre 25 e menos de 35 anos?\n",
        "\n",
        "P(25 <= idade Feminino < 35)"
      ]
    },
    {
      "cell_type": "code",
      "metadata": {
        "id": "FEEB3wvmhGzu",
        "colab": {
          "base_uri": "https://localhost:8080/"
        },
        "outputId": "cdd98080-d298-43e4-f399-46c91156d460"
      },
      "source": [
        "f_25a34 = genero[1][1]\n",
        "f_total = genero[5][1]\n",
        "print(\"Qntd. de Mulheres de 25 a 34 anos = \", f_25a34)\n",
        "print(\"Qntd. Total de Mulheres = \", f_total)\n",
        "\n",
        "print(\"\\nP(25 <= idade Feminino < 35) = \", round(f_25a34 / f_total, 2))"
      ],
      "execution_count": null,
      "outputs": [
        {
          "output_type": "stream",
          "text": [
            "Qntd. de Mulheres de 25 a 34 anos =  18\n",
            "Qntd. Total de Mulheres =  55\n",
            "\n",
            "P(25 <= idade Feminino < 35) =  0.33\n"
          ],
          "name": "stdout"
        }
      ]
    },
    {
      "cell_type": "markdown",
      "metadata": {
        "id": "ZtEjGQgriW7y"
      },
      "source": [
        "P(25 <= idade Feminino < 35) =  0.33.\n",
        "\n",
        "Resposta: Alternativa A: 0.33."
      ]
    },
    {
      "cell_type": "markdown",
      "metadata": {
        "id": "xewxlTE-if5q"
      },
      "source": [
        "**Questão 3**\n",
        "\n",
        "Qual a probabilidade do funcionário ser do gênero masculino OU ter idade entre 25 e menos de 35 anos?\n",
        "\n",
        "P(Homem | 25 <= idade < 35)"
      ]
    },
    {
      "cell_type": "code",
      "metadata": {
        "id": "ZF5qLL9ijAyh",
        "colab": {
          "base_uri": "https://localhost:8080/"
        },
        "outputId": "b0b249c9-aa1f-4bd2-b6aa-e97fa90cd760"
      },
      "source": [
        "funcionarios_25a34 = genero[1][3]\n",
        "m_total = genero[5][2]\n",
        "\n",
        "print(\"Qntd. de Funcionários de 25 a 34 anos = \", funcionarios_25a34)\n",
        "print(\"Qntd. de Total de Homens = \", m_total)\n",
        "\n",
        "#Retirando a quantia de homens na contagem de funcionários de 25 a 34 anos\n",
        "soma = m_total + ( funcionarios_25a34 - genero[1][2])\n",
        "print(\"Soma = \", soma)\n",
        "\n",
        "print(\"\\nP(Homem | 25 <= idade < 35) = \", round(soma / genero[5][3], 2))"
      ],
      "execution_count": null,
      "outputs": [
        {
          "output_type": "stream",
          "text": [
            "Qntd. de Funcionários de 25 a 34 anos =  33\n",
            "Qntd. de Total de Homens =  70\n",
            "Soma =  88\n",
            "\n",
            "P(Homem | 25 <= idade < 35) =  0.7\n"
          ],
          "name": "stdout"
        }
      ]
    },
    {
      "cell_type": "markdown",
      "metadata": {
        "id": "QEO7vTI_sME3"
      },
      "source": [
        "Resposta: Alternativa D: 0.70."
      ]
    },
    {
      "cell_type": "markdown",
      "metadata": {
        "id": "6j921JgJsSZy"
      },
      "source": [
        "**Questão 4**\n",
        "\n",
        "A probabilidade de 3 jogadores marcarem um penalti são respectivamente 2/3, 4/5 e 7/10. Se cada um cobrar uma única vez, qual a probabilidade de todos errarem? Questão de Independência Estatística."
      ]
    },
    {
      "cell_type": "code",
      "metadata": {
        "id": "bbf9EsYSsRxO",
        "colab": {
          "base_uri": "https://localhost:8080/"
        },
        "outputId": "887d902d-561e-4af9-8415-83b4f3b84ce0"
      },
      "source": [
        "print(\"Probabilidade de Erro para cada um:\")\n",
        "print(\"1/3 = \", 1 - (2/3))\n",
        "print(\"1/5 = \", 1 - (4/5))\n",
        "print(\"3/10 = \",1 - (7/10))\n",
        "\n",
        "print(\"Todos errarem = \", 1/5 * 1/3 * 3/10)"
      ],
      "execution_count": null,
      "outputs": [
        {
          "output_type": "stream",
          "text": [
            "Probabilidade de Erro para cada um:\n",
            "1/3 =  0.33333333333333337\n",
            "1/5 =  0.19999999999999996\n",
            "3/10 =  0.30000000000000004\n",
            "Todos errarem =  0.02\n"
          ],
          "name": "stdout"
        }
      ]
    },
    {
      "cell_type": "markdown",
      "metadata": {
        "id": "IDsD5yHxyKpN"
      },
      "source": [
        "Em termos fracionários, 0,02 é igual a 1/50.\n",
        "\n",
        "Resposta: Alternativa A: 1/50."
      ]
    },
    {
      "cell_type": "markdown",
      "metadata": {
        "id": "h0k9iRiByQ5e"
      },
      "source": [
        "**Questão 5**\n",
        "\n",
        "(Consultando a imagem no formulário do google).  A probabilidade de fechamento de cada relé do circuito apresentado a cima é dada por \"p\". Se todos os relés funcionarem independentemente, qual será a probabilidade de que haja corrente entre os terminais L e R?"
      ]
    },
    {
      "cell_type": "markdown",
      "metadata": {
        "id": "R63Z_dNC1p-9"
      },
      "source": [
        "Considerando:\n",
        "*   A = 1 e 2 fechados\n",
        "*   B = 3 e 4 fechados\n",
        "*   A e B como eventos independentes (queremos um ou o outro)\n",
        "\n",
        "*Questão de Independência Estatística*\n",
        "\n",
        "P(AUB) = P(A) + P(B) - P(A∩B)\n",
        "\n",
        "       = P(A) + P(B) - (P(A) * P(B))\n",
        "\n",
        "Como ambos os eventos possuem a mesma equivalência, P(A) = P(B). E A probabilidade do fechamento de cada relê é dada por \"p\", então P(A) = P(B) = p * p = p². \n",
        "\n",
        "       = p² + p² - (p² * p²)\n",
        "\n",
        "       = 2p² - p^4.\n",
        "\n",
        "Resposta: Alternativa B: 2p^2 – p^4.\n"
      ]
    },
    {
      "cell_type": "markdown",
      "metadata": {
        "id": "rSJw85HP29er"
      },
      "source": [
        "**Questão 6**\n",
        "\n",
        "Uma rede local de computadores é composta por um servidor e cinco clientes (A, B, C, D e E). Registros anteriores indicam que dos pedidos de determinado tipo de procedimento, realizados através de uma consulta, cerca de 10% vêm do cliente A, 15% do B, 15% do C, 40% do D e 20% do E. Se o pedido não for feito de forma adequada, o processamento apresentará erro. Usualmente, ocorrem os seguintes percentuais de pedidos inadequados: 1% do cliente A, 2% do cliente B, 0,5% do cliente C, 2% do cliente D e 8% do cliente E. Qual a probabilidade de que o processo tenha sido pedido pelo cliente E, sabendo-se que apresentou erro?\n",
        "\n",
        "*Questão de Teorema de Bayes*"
      ]
    },
    {
      "cell_type": "code",
      "metadata": {
        "id": "kse5UYE83n54"
      },
      "source": [
        "headers_pedidos = ['adequadas', 'inadequadas']\n",
        "\n",
        "pedidos = [\n",
        "[0.10, 0.01],\n",
        "[0.15, 0.02],\n",
        "[0.15, 0.005],\n",
        "[0.40, 0.02],\n",
        "[0.20, 0.08]\n",
        "]"
      ],
      "execution_count": null,
      "outputs": []
    },
    {
      "cell_type": "code",
      "metadata": {
        "id": "Vnabg8Ds49Tb",
        "colab": {
          "base_uri": "https://localhost:8080/"
        },
        "outputId": "6efc0730-dd60-4e3f-e609-05126f1d395b"
      },
      "source": [
        "print(tabulate(pedidos, headers=headers_pedidos, floatfmt=\".4f\", numalign=\"right\"))"
      ],
      "execution_count": null,
      "outputs": [
        {
          "output_type": "stream",
          "text": [
            "  adequadas    inadequadas\n",
            "-----------  -------------\n",
            "     0.1000         0.0100\n",
            "     0.1500         0.0200\n",
            "     0.1500         0.0050\n",
            "     0.4000         0.0200\n",
            "     0.2000         0.0800\n"
          ],
          "name": "stdout"
        }
      ]
    },
    {
      "cell_type": "code",
      "metadata": {
        "id": "IKsOA81jIv93"
      },
      "source": [
        "#Calcula a probabilidade da consulta de qualquer cliente dar em erro.\n",
        "p_defeituosa = 0\n",
        "\n",
        "for row in pedidos:\n",
        "  cont = 1\n",
        "  for i in range(len(row)):\n",
        "    #print(row[i])\n",
        "    cont = cont * row[i]\n",
        "  p_defeituosa = p_defeituosa + cont"
      ],
      "execution_count": null,
      "outputs": []
    },
    {
      "cell_type": "code",
      "metadata": {
        "id": "pB1wSJjXJjAV",
        "colab": {
          "base_uri": "https://localhost:8080/"
        },
        "outputId": "1f061b1b-fbac-457e-935a-92a378b80dea"
      },
      "source": [
        "print(\"P(Einadequadas | Itotal) = \", round((pedidos[4][0] * pedidos[4][1]) / p_defeituosa, 4))"
      ],
      "execution_count": null,
      "outputs": [
        {
          "output_type": "stream",
          "text": [
            "P(Einadequadas | Itotal) =  0.5565\n"
          ],
          "name": "stdout"
        }
      ]
    },
    {
      "cell_type": "markdown",
      "metadata": {
        "id": "BZn9x49jLxc4"
      },
      "source": [
        "Resposta: Alternativa C: 0,5565."
      ]
    },
    {
      "cell_type": "markdown",
      "metadata": {
        "id": "bAUnjtc1L2va"
      },
      "source": [
        "**Questão 7**\n",
        "\n",
        "Dados históricos mostram que 70% das pessoas que acessam a página p20, também acessam a página p21. Qual a probabilidade de que, nos 10 próximos acessos a página p20, a maioria também acesse acesse a página p21.\n",
        "\n",
        "*Questão de Distribuição Discreta*\n",
        "\n",
        "n = 10\n",
        "\n",
        "p = 70% = 0.7\n",
        "\n",
        "A maioridade de 10 é de 6 em diante, logo x > 5 OU x >= 6."
      ]
    },
    {
      "cell_type": "code",
      "metadata": {
        "id": "9esVXfz7L-sY",
        "colab": {
          "base_uri": "https://localhost:8080/"
        },
        "outputId": "1fa59c97-e605-448f-991a-a0e083f3f3ff"
      },
      "source": [
        "print(\"P(x > 5) = \", round((1 - binom.cdf(5,10,0.7)),4)) #cdf(x, n, p)"
      ],
      "execution_count": null,
      "outputs": [
        {
          "output_type": "stream",
          "text": [
            "P(x > 5) =  0.8497\n"
          ],
          "name": "stdout"
        }
      ]
    },
    {
      "cell_type": "code",
      "metadata": {
        "id": "a1jBxUBzAYJB",
        "colab": {
          "base_uri": "https://localhost:8080/"
        },
        "outputId": "f7be7e4b-1d7d-4de5-f152-068f69cfefcb"
      },
      "source": [
        "x6 = binom.pmf(6,10,0.7)\n",
        "x7 = binom.pmf(7,10,0.7)\n",
        "x8 = binom.pmf(8,10,0.7)\n",
        "x9 = binom.pmf(9,10,0.7)\n",
        "x10 = binom.pmf(10,10,0.7)\n",
        "print(\"s = \", x6 + x7+ x8+ x9 + x10)"
      ],
      "execution_count": null,
      "outputs": [
        {
          "output_type": "stream",
          "text": [
            "s =  0.8497316674000002\n"
          ],
          "name": "stdout"
        }
      ]
    },
    {
      "cell_type": "markdown",
      "metadata": {
        "id": "OA93OVOsbEzC"
      },
      "source": [
        "Resposta: Alternativa D: 0,8497"
      ]
    },
    {
      "cell_type": "markdown",
      "metadata": {
        "id": "1ZiQF7K7bXom"
      },
      "source": [
        "**Questão 8**\n",
        "\n",
        "Um lote de notebooks é recebido por uma firma. Vinte máquinas são inspecionadas. O lote é rejeitado se pelo menos 4 forem defeituosas. Sabendo-se que 1% dos aparelhos são defeituosos, determine a probabilidade de a firma rejeitar todo o lote."
      ]
    },
    {
      "cell_type": "code",
      "metadata": {
        "id": "Q4-AlUGybFV-",
        "colab": {
          "base_uri": "https://localhost:8080/"
        },
        "outputId": "59fadc03-421d-4cee-e233-048100b1d9f2"
      },
      "source": [
        "print(\"P(x <= 4 ) = \",  round((1-binom.cdf(3, 20, 0.01)),5)) \n",
        "#https://brainly.com.br/tarefa/12892074"
      ],
      "execution_count": null,
      "outputs": [
        {
          "output_type": "stream",
          "text": [
            "P(x <= 4 ) =  4e-05\n"
          ],
          "name": "stdout"
        }
      ]
    },
    {
      "cell_type": "code",
      "metadata": {
        "id": "Su_KaDDBBA8v",
        "colab": {
          "base_uri": "https://localhost:8080/"
        },
        "outputId": "0bb78a33-5faa-4774-ca42-661b79b326bd"
      },
      "source": [
        "x1 = binom.pmf(1, 20, 0.01)\n",
        "x2 = binom.pmf(2, 20, 0.01)\n",
        "x3 = binom.pmf(3, 20, 0.01)\n",
        "x0 = binom.pmf(0, 20, 0.01)\n",
        "print(\"s = \", 1 - (x1 + x2 + x3 + x0))"
      ],
      "execution_count": null,
      "outputs": [
        {
          "output_type": "stream",
          "text": [
            "s =  4.2620927642511575e-05\n"
          ],
          "name": "stdout"
        }
      ]
    },
    {
      "cell_type": "markdown",
      "metadata": {
        "id": "WfY3TAJohtPJ"
      },
      "source": [
        "4e-05 = 0,00004\n",
        "\n",
        "Resposta: Alternativa B: 0,00004."
      ]
    },
    {
      "cell_type": "markdown",
      "metadata": {
        "id": "1Gp4Yrbch2md"
      },
      "source": [
        "**Questão 9**\n",
        "\n",
        "Supondo que consultas num banco de dados ocorrem de forma independentes e aleatória, com uma taxa média de 3 consultas por minuto, qual a probabilidade de que no próximo minuto ocorram menos de 3 consultas.\n",
        "\n",
        "Menos de 3 consultas => x < 3 OU x <= 2 P(x = 0 + x = 1 + x = 2).\n",
        "\n",
        "*Questão de Poisson*"
      ]
    },
    {
      "cell_type": "code",
      "metadata": {
        "id": "N_h5Z233hsb7",
        "colab": {
          "base_uri": "https://localhost:8080/"
        },
        "outputId": "d0c9ef36-e984-4900-c411-2cd619d6fedf"
      },
      "source": [
        "print(\"P(x < 3) = \", round(poisson.cdf(2,3),4)) #cdf(x,média)"
      ],
      "execution_count": null,
      "outputs": [
        {
          "output_type": "stream",
          "text": [
            "P(x < 3) =  0.4232\n"
          ],
          "name": "stdout"
        }
      ]
    },
    {
      "cell_type": "markdown",
      "metadata": {
        "id": "Sfkv5Wxp7biq"
      },
      "source": [
        "Resposta: Alternativa C: 0,4232."
      ]
    },
    {
      "cell_type": "markdown",
      "metadata": {
        "id": "9KccI4rz7fJO"
      },
      "source": [
        "**Questão 10**\n",
        "\n",
        "A análise dos dados dos últimos anos de uma empresa de energia elétrica forneceu o valor médio de um blecaute por ano. Qual a probabilidade de ocorrer de 2 a 4 blecautes no próximo ano?\n",
        "\n",
        "média = 1\n",
        "\n",
        "2 <= x <= x\n",
        "\n",
        "P(x = 2) + P(x = 3) + P(x = 4)"
      ]
    },
    {
      "cell_type": "code",
      "metadata": {
        "id": "oCFPqjyPBnoM",
        "colab": {
          "base_uri": "https://localhost:8080/"
        },
        "outputId": "c687ac99-e47a-4f25-eb99-99980b9975d3"
      },
      "source": [
        "x2 = round(poisson.pmf(2, 1), 3)\n",
        "x3 = round(poisson.pmf(3, 1), 3)\n",
        "x4 = round(poisson.pmf(4, 1), 3)\n",
        "\n",
        "print(\"P(x = 2 + x = 3 + x = 4)\", x2 + x3 + x4)"
      ],
      "execution_count": null,
      "outputs": [
        {
          "output_type": "stream",
          "text": [
            "P(x = 2 + x = 3 + x = 4) 0.26\n"
          ],
          "name": "stdout"
        }
      ]
    },
    {
      "cell_type": "markdown",
      "metadata": {
        "id": "0BH3BIljDA6j"
      },
      "source": [
        "Resposta: Alternativa B: 0,260."
      ]
    }
  ]
}