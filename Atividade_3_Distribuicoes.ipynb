{
  "nbformat": 4,
  "nbformat_minor": 0,
  "metadata": {
    "colab": {
      "name": "Atividade 3 - Distribuições Contínuas e Inferências.ipynb",
      "provenance": [],
      "collapsed_sections": []
    },
    "kernelspec": {
      "name": "python3",
      "display_name": "Python 3"
    }
  },
  "cells": [
    {
      "cell_type": "code",
      "metadata": {
        "id": "Al4PZCiP8_jh"
      },
      "source": [
        "import numpy as np\n",
        "import statistics as st\n",
        "import seaborn as sb\n",
        "import statsmodels.stats.proportion as prop\n",
        "from scipy import stats\n",
        "from scipy.stats import uniform, expon, norm, poisson, t\n",
        "import matplotlib.pyplot as plt\n",
        "import statistics as st\n",
        "from scipy import stats"
      ],
      "execution_count": null,
      "outputs": []
    },
    {
      "cell_type": "markdown",
      "metadata": {
        "id": "tj34tXup9Jo9"
      },
      "source": [
        "**Questão 1**\n",
        "\n",
        "Um ponto é escolhido ao acaso no segmento de reta [1,4]. Qual a probabilidade de que o ponto escolhido esteja entre 0,5 e 2,5? \n",
        "\n",
        "Como 0,5 está fora do segmento de reta, podemos considerar que, independente do início (se é igual ou menor que 1), a probabilidade será a mesma até o ponto final procurado (2,5). Portanto, podemos procurar o valor acumulado até 2,5. "
      ]
    },
    {
      "cell_type": "code",
      "metadata": {
        "id": "XglfsDzu9JAC",
        "colab": {
          "base_uri": "https://localhost:8080/"
        },
        "outputId": "19fe5bb0-cfb1-4f3d-eccb-5234516376af"
      },
      "source": [
        "a = 1\n",
        "b = 4\n",
        "print(\"P(0,5 <= x <= 2,5) = \", uniform.cdf(2.5, 1, b - a)) #(ponto de interesse, ponto inicial, escala)"
      ],
      "execution_count": null,
      "outputs": [
        {
          "output_type": "stream",
          "text": [
            "P(0,5 <= x <= 2,5) =  0.5\n"
          ],
          "name": "stdout"
        }
      ]
    },
    {
      "cell_type": "markdown",
      "metadata": {
        "id": "Ya9PZdu2LwxG"
      },
      "source": [
        "Resposta: Alternativa D: 1/2. "
      ]
    },
    {
      "cell_type": "markdown",
      "metadata": {
        "id": "TVyikgjHL2aJ"
      },
      "source": [
        "**Questão 2**\n",
        "\n",
        "O tempo de vida (em horas) de um transístor é uma variável aleatória T com distribuição exponencial. O tempo médio de vida do transístor é de 500 horas. Qual a probabilidade de o transístor durar entre 300 e 1000 horas?"
      ]
    },
    {
      "cell_type": "code",
      "metadata": {
        "id": "a7go6cl-E6CV",
        "colab": {
          "base_uri": "https://localhost:8080/"
        },
        "outputId": "6720c2e9-e521-4a57-8c28-9874acc7649f"
      },
      "source": [
        "laambda = 500 #tempo médio de vida é E[t]\n",
        "round(expon.cdf(1000, scale = laambda) - expon.cdf(300, scale = laambda), 4)"
      ],
      "execution_count": null,
      "outputs": [
        {
          "output_type": "execute_result",
          "data": {
            "text/plain": [
              "0.4135"
            ]
          },
          "metadata": {
            "tags": []
          },
          "execution_count": 17
        }
      ]
    },
    {
      "cell_type": "markdown",
      "metadata": {
        "id": "yCDVXq8WSRUc"
      },
      "source": [
        "Resposta: Alternativa B: 0,4135."
      ]
    },
    {
      "cell_type": "markdown",
      "metadata": {
        "id": "jTommXPySO1T"
      },
      "source": [
        "**Questão 3**\n",
        "\n",
        "\n",
        "Se as interrupções no suprimento de energia elétrica ocorrem segundo uma distribuição de Poisson com a média de uma interrupção por mês (quatro semanas). Qual a probabilidade de que entre duas interrupções consecutivas ocorram em um intervalo de menos de uma semana?"
      ]
    },
    {
      "cell_type": "code",
      "metadata": {
        "id": "O2fuJ-ilU9Cq",
        "colab": {
          "base_uri": "https://localhost:8080/"
        },
        "outputId": "2a6a37e7-81b1-4184-987d-c1ffb99ca246"
      },
      "source": [
        "#Uma interrupção a cada 4 semanas. 4 semanas possuem 28 dias.\n",
        "media = 28\n",
        "round(expon.cdf(7, scale = media), 4)"
      ],
      "execution_count": null,
      "outputs": [
        {
          "output_type": "execute_result",
          "data": {
            "text/plain": [
              "0.2212"
            ]
          },
          "metadata": {
            "tags": []
          },
          "execution_count": 92
        }
      ]
    },
    {
      "cell_type": "markdown",
      "metadata": {
        "id": "ETwdm2EbRc5I"
      },
      "source": [
        "Resposta: Alternativa A: 0,2212."
      ]
    },
    {
      "cell_type": "markdown",
      "metadata": {
        "id": "LFMXHcuia-4Q"
      },
      "source": [
        "**Questão 4**\n",
        "\n",
        "As notas de uma prova de estatística em uma turma do ensino superior são normalmente distribuídas com média 6,0 e variância 16,0. Qual a probabilidade de um aluno tirar uma nota entre 7,0 e 8,0?"
      ]
    },
    {
      "cell_type": "code",
      "metadata": {
        "id": "IRgaIyngbRkI",
        "colab": {
          "base_uri": "https://localhost:8080/"
        },
        "outputId": "57401fc7-6fb6-4f98-c4d3-bfd5a7887e8d"
      },
      "source": [
        "#norm.cdf(ponto de interesse, distribuição normal de média, desvio-padrão)\n",
        "#desvio-padrão = raiz quadrada de variância\n",
        "#logo, d-p = 4\n",
        "round(norm.cdf(8,6,4) - norm.cdf(7,6,4), 4)"
      ],
      "execution_count": null,
      "outputs": [
        {
          "output_type": "execute_result",
          "data": {
            "text/plain": [
              "0.0928"
            ]
          },
          "metadata": {
            "tags": []
          },
          "execution_count": 33
        }
      ]
    },
    {
      "cell_type": "markdown",
      "metadata": {
        "id": "dpKtEFIvdyqA"
      },
      "source": [
        "Resposta: Alternativa D: 0,0928."
      ]
    },
    {
      "cell_type": "markdown",
      "metadata": {
        "id": "2z1DsXP0d3Ig"
      },
      "source": [
        "**Questão 5**\n",
        "\n",
        "Uma enchedora automática de garrafas de refrigerante esta regulada para que o volume médio de líquido em cada garrafa seja de 1000 cm³ e o desvio-padrão de 10 cm³. Qual deve ser a medida mínima para um técnico escolher 5% das garrafas que não completaram 1000 cm³?"
      ]
    },
    {
      "cell_type": "code",
      "metadata": {
        "id": "rl32NgIXd2mA",
        "colab": {
          "base_uri": "https://localhost:8080/"
        },
        "outputId": "537029ef-3eda-4754-d594-5a8a8f4f90e8"
      },
      "source": [
        "round(norm.ppf(0.05, 1000, 10), 1) #ppf dá o valor inverso a probabilidade / é acumulado tbm, como o cdf"
      ],
      "execution_count": null,
      "outputs": [
        {
          "output_type": "execute_result",
          "data": {
            "text/plain": [
              "983.6"
            ]
          },
          "metadata": {
            "tags": []
          },
          "execution_count": 35
        }
      ]
    },
    {
      "cell_type": "markdown",
      "metadata": {
        "id": "BEy-IdEOerUU"
      },
      "source": [
        "Resposta: Alternativa B: 983,6 cm3."
      ]
    },
    {
      "cell_type": "markdown",
      "metadata": {
        "id": "uUyW-EEne2NG"
      },
      "source": [
        "**Questão 6**\n",
        "\n",
        "Existe vários algoritmos computacionais que permitem gerar números aleatórios (ou, mais apropriadamente, pseudo-aleatórios) no intervalo [0,1], com distribuição uniforme. Considere a geração de 100 números (X1, X2, ...,X100) desta forma. Qual é o valor da média e da variância de Xi?"
      ]
    },
    {
      "cell_type": "code",
      "metadata": {
        "id": "FJ8fNcHEkqp0",
        "colab": {
          "base_uri": "https://localhost:8080/"
        },
        "outputId": "0b6b5b7f-6860-426c-a5fb-66922e1f3ffe"
      },
      "source": [
        "a = 0\n",
        "b = 1\n",
        "\n",
        "media = (a + b) / 2\n",
        "print(\"Média = \", media)\n",
        "\n",
        "variancia = ((b - a)**2 / 12)\n",
        "print(\"Variância = \", variancia)"
      ],
      "execution_count": null,
      "outputs": [
        {
          "output_type": "stream",
          "text": [
            "Média =  0.5\n",
            "Variância =  0.08333333333333333\n"
          ],
          "name": "stdout"
        }
      ]
    },
    {
      "cell_type": "markdown",
      "metadata": {
        "id": "gUDrs3X9mZnu"
      },
      "source": [
        "Média = 0,5 = 1/2\n",
        "\n",
        "Variância = 0,083~ = 1/12\n",
        "\n",
        "Resposta: Alternativa C: 1/2 e 1/12."
      ]
    },
    {
      "cell_type": "markdown",
      "metadata": {
        "id": "1JPRp7WdmpAa"
      },
      "source": [
        "**Questão 7**\n",
        "\n",
        "Com o objetivo de avaliar a confiabilidade de um novo sistema de transmissão de dados, torna-se necessário verificar a proporção de bits transmitidos com erro em cada lote de 100 Mb. Considere que seja tolerável um erro amostral de máximo de 2% e que em sistemas similares a taxa de erro na transmissão é de 10%. Qual deve ser o tamanho da amostra ao nível de 95%?"
      ]
    },
    {
      "cell_type": "code",
      "metadata": {
        "id": "UJJh7HZI1fC_",
        "colab": {
          "base_uri": "https://localhost:8080/"
        },
        "outputId": "a9e465e4-1aa2-4470-cce1-214015097a17"
      },
      "source": [
        "# Tamanho da amostra:\n",
        "n = (norm.ppf(0.975)**2)*0.1*0.9/(0.02**2)\n",
        "round(n,2)"
      ],
      "execution_count": null,
      "outputs": [
        {
          "output_type": "execute_result",
          "data": {
            "text/plain": [
              "864.33"
            ]
          },
          "metadata": {
            "tags": []
          },
          "execution_count": 53
        }
      ]
    },
    {
      "cell_type": "markdown",
      "metadata": {
        "id": "xetlG1EX4Ao9"
      },
      "source": [
        "Lembrando que o professor falou em aula que o arredondamento é para cima. Logo o tamanho da amostra é 865.\n",
        "\n",
        "Resposta: Alternativa D: 865. "
      ]
    },
    {
      "cell_type": "markdown",
      "metadata": {
        "id": "69fgnYz84HWu"
      },
      "source": [
        "**Questão 8**\n",
        "\n",
        "Em 400 simulações de determinado equipamento, foram obtidos 80 sucessos. Qual o intervalo de confiança ao nível de 95% para a proporção de sucessos."
      ]
    },
    {
      "cell_type": "code",
      "metadata": {
        "id": "WlsvczAu4NJc",
        "colab": {
          "base_uri": "https://localhost:8080/"
        },
        "outputId": "77d8f46d-ca45-411a-c39e-87c9a64603ce"
      },
      "source": [
        "inf, sup = prop.proportion_confint (80, 400, alpha=0.05, method='normal')\n",
        "print ('Limite inferior %:', round( inf, 2)*100 )\n",
        "print ('Limite superior %:', round( sup, 2)*100 )"
      ],
      "execution_count": null,
      "outputs": [
        {
          "output_type": "stream",
          "text": [
            "Limite inferior %: 16.0\n",
            "Limite superior %: 24.0\n"
          ],
          "name": "stdout"
        }
      ]
    },
    {
      "cell_type": "markdown",
      "metadata": {
        "id": "SB8AsbCIFfNu"
      },
      "source": [
        "Resposta: Alternativa A: IC95%(16%; 24%)."
      ]
    },
    {
      "cell_type": "markdown",
      "metadata": {
        "id": "rpX7PBDQFtGg"
      },
      "source": [
        "**Questão 9**\n",
        "\n",
        "Do total de válvulas fabricadas por uma companhia retira-se uma amostra de 30 válvulas, e obtém-se a vida média de 800h com desvio-padrão de 100h. Qual o intervalo de confiança de 99% para a vida média da população?"
      ]
    },
    {
      "cell_type": "code",
      "metadata": {
        "id": "KB8o98pvFyrc",
        "colab": {
          "base_uri": "https://localhost:8080/"
        },
        "outputId": "7dfc0373-d2df-485c-d5ea-d04734fa2668"
      },
      "source": [
        "n = 30\n",
        "media = 800 #loc\n",
        "dp = 100\n",
        "                                            \n",
        "inf, sup = norm.interval(0.99, loc = media, scale = dp / np.sqrt(n) )\n",
        "print ('Limite inferior:', round(inf, 1) )\n",
        "print ('Limite superior:', round(sup, 1) )"
      ],
      "execution_count": null,
      "outputs": [
        {
          "output_type": "stream",
          "text": [
            "Limite inferior: 753.0\n",
            "Limite superior: 847.0\n"
          ],
          "name": "stdout"
        }
      ]
    },
    {
      "cell_type": "markdown",
      "metadata": {
        "id": "EX0QMDLLHcOd"
      },
      "source": [
        "Resposta: Alternativa D: IC99%(750,3 ; 851,7)."
      ]
    },
    {
      "cell_type": "markdown",
      "metadata": {
        "id": "Z6WxRDvGIhyA"
      },
      "source": [
        "**Questão 10**\n",
        "\n",
        "De uma distribuição normal com σ² = 1,96, obteve-se a seguinte amostra: 25,2; 26,0; 26,4; 27,1; 28,2; 28,4. Determinar o intervalo de confiança para a média da população, sendo α = 5%. "
      ]
    },
    {
      "cell_type": "code",
      "metadata": {
        "id": "uU-v7yhoKbm9"
      },
      "source": [
        "amostra = [25.2, 26.0, 26.4, 27.1, 28.2, 28.4]\n",
        "sigma2 = 1.96\n",
        "dp = np.sqrt(sigma2)\n",
        "alpha = 0.05\n",
        "nivel = 1 - alpha"
      ],
      "execution_count": null,
      "outputs": []
    },
    {
      "cell_type": "code",
      "metadata": {
        "id": "ovgzGybxKsio",
        "colab": {
          "base_uri": "https://localhost:8080/"
        },
        "outputId": "c5fb4f0e-de07-425f-f485-fc7c133cece7"
      },
      "source": [
        "inf, sup = norm.interval(nivel, loc = st.mean(amostra), scale = dp / np.sqrt(len(amostra)))\n",
        "print(\"Para IC de nível (%) de \", nivel*100)\n",
        "print ('Limite inferior:', round(inf, 2) )\n",
        "print ('Limite superior:', round(sup, 2) )"
      ],
      "execution_count": null,
      "outputs": [
        {
          "output_type": "stream",
          "text": [
            "Para IC de nível (%) de  95.0\n",
            "Limite inferior: 25.76\n",
            "Limite superior: 28.0\n"
          ],
          "name": "stdout"
        }
      ]
    },
    {
      "cell_type": "markdown",
      "metadata": {
        "id": "O-rmINi_OZ-A"
      },
      "source": [
        "Resposta: Alternatica D: IC95%(25,76 ; 28,00). "
      ]
    }
  ]
}