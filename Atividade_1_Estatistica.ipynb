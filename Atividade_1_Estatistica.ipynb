{
  "nbformat": 4,
  "nbformat_minor": 0,
  "metadata": {
    "colab": {
      "name": "Atividade 1 (form google).ipynb",
      "provenance": [],
      "collapsed_sections": []
    },
    "kernelspec": {
      "name": "python3",
      "display_name": "Python 3"
    }
  },
  "cells": [
    {
      "cell_type": "code",
      "metadata": {
        "id": "hz8kctVAW85g"
      },
      "source": [
        "import numpy as np\n",
        "import statistics as st\n",
        "from scipy import stats\n",
        "import seaborn as sb\n",
        "from collections import Counter"
      ],
      "execution_count": null,
      "outputs": []
    },
    {
      "cell_type": "code",
      "metadata": {
        "id": "xv-SkV_HXUai"
      },
      "source": [
        "#Jogadores de Paris de Saint- Germain (PSG), e seus respectivos salários em milhoes de euros\n",
        "psg = {'Neymar':37, \n",
        "'Mbappé':23,\n",
        "'Thiago Silva': 18,\n",
        "'Cavani': 16,\n",
        "'Marquinhos': 14,\n",
        "'Verratti':14,\n",
        "'Di Maria':13,\n",
        "'Navas':12,\n",
        "'Icardi':10,\n",
        "'Paredes':9}"
      ],
      "execution_count": null,
      "outputs": []
    },
    {
      "cell_type": "code",
      "metadata": {
        "id": "TweJ1yAsXtVN"
      },
      "source": [
        "#Array contendo somente nomes dos jogadores do PSG\n",
        "#psg_nomes = list(psg.keys())\n",
        "\n",
        "#Array contendo somente salários dos jogadores do PSG\n",
        "psg_salarios = list(psg.values())\n",
        "psg_salarios.sort()"
      ],
      "execution_count": null,
      "outputs": []
    },
    {
      "cell_type": "code",
      "metadata": {
        "id": "xLQnPtsLXmX6"
      },
      "source": [
        "#Jogadores do Real Madríd, e seus respectivos salários em milhões de euros\n",
        "real = {'Hazard':15,\n",
        "'Gareth Bale':15,\n",
        "'Sergio Ramos':12,\n",
        "'Tony Kroos':12,\n",
        "'Luka Modric':11,\n",
        "'Marcelo':10,\n",
        "'Benzama':9,\n",
        "'James Rodríguez':9,\n",
        "'Courtois':9,\n",
        "'Vinícius': 7}"
      ],
      "execution_count": null,
      "outputs": []
    },
    {
      "cell_type": "code",
      "metadata": {
        "id": "ljCHSNWJcmb_"
      },
      "source": [
        "#Array contendo somente nomes dos jogadores do Real Madrid\n",
        "#real_nomes = list(real.keys())\n",
        "\n",
        "#Array contendo somente salários dos jogadores do Real Madrid\n",
        "real_salarios = list(real.values())\n",
        "real_salarios.sort()"
      ],
      "execution_count": null,
      "outputs": []
    },
    {
      "cell_type": "code",
      "metadata": {
        "id": "ndRHkZd0cwCQ",
        "colab": {
          "base_uri": "https://localhost:8080/"
        },
        "outputId": "5731d84b-7557-462b-8d9e-4a37bb8139c2"
      },
      "source": [
        "#QUESTÃO 1\n",
        "#Verificando simetria:\n",
        "\n",
        "print(\"Simetria do PSG:\", round(stats.describe(psg_salarios)[4], 5))\n",
        "print(\"Curtose do PSG:\", round(stats.describe(psg_salarios)[5], 5))\n",
        "#print(\"Simetria do Real:\", round(stats.describe(real_salarios)[4], 5))"
      ],
      "execution_count": null,
      "outputs": [
        {
          "output_type": "stream",
          "text": [
            "Simetria do PSG: 1.65392\n",
            "Curtose do PSG: 1.88481\n"
          ],
          "name": "stdout"
        }
      ]
    },
    {
      "cell_type": "code",
      "metadata": {
        "id": "DRE-3e-5eiR3",
        "colab": {
          "base_uri": "https://localhost:8080/",
          "height": 352
        },
        "outputId": "60da7f46-3d29-4d74-8039-b807a42e6c79"
      },
      "source": [
        "sb.boxplot(psg_salarios).set_title('Salários dos jogadores do PSG')"
      ],
      "execution_count": null,
      "outputs": [
        {
          "output_type": "stream",
          "text": [
            "/usr/local/lib/python3.6/dist-packages/seaborn/_decorators.py:43: FutureWarning: Pass the following variable as a keyword arg: x. From version 0.12, the only valid positional argument will be `data`, and passing other arguments without an explicit keyword will result in an error or misinterpretation.\n",
            "  FutureWarning\n"
          ],
          "name": "stderr"
        },
        {
          "output_type": "execute_result",
          "data": {
            "text/plain": [
              "Text(0.5, 1.0, 'Salários dos jogadores do PSG')"
            ]
          },
          "metadata": {
            "tags": []
          },
          "execution_count": 32
        },
        {
          "output_type": "display_data",
          "data": {
            "image/png": "[encoded data removed]",
            "text/plain": [
              "<Figure size 432x288 with 1 Axes>"
            ]
          },
          "metadata": {
            "tags": [],
            "needs_background": "light"
          }
        }
      ]
    },
    {
      "cell_type": "markdown",
      "metadata": {
        "id": "MgZ7-ajREV03"
      },
      "source": [
        "**Questão 1**\n",
        "\n",
        "Pelo dado simétrico e pelo gráfico, podemos concluir que é ASSIMÉTRICA POSITIVA.\n",
        "\n",
        "Resposta: Alternativa B."
      ]
    },
    {
      "cell_type": "code",
      "metadata": {
        "id": "N7Hm6UYMCFqN",
        "colab": {
          "base_uri": "https://localhost:8080/"
        },
        "outputId": "32b5186d-4192-4475-81a9-45662e6efce3"
      },
      "source": [
        "#QUESTÃO 2: \n",
        "#Conclusão sobre média, mediana e moda do Real Madríd.\n",
        "\n",
        "print(\"Média aritmética do Real:\", st.mean(real_salarios))\n",
        "print(\"Mediana do Real:\", st.median(real_salarios))\n",
        "print(\"Moda do Real:\", st.mode(real_salarios))"
      ],
      "execution_count": null,
      "outputs": [
        {
          "output_type": "stream",
          "text": [
            "Média aritmética do Real: 10.9\n",
            "Mediana do Real: 10.5\n",
            "Moda do Real: 9\n"
          ],
          "name": "stdout"
        }
      ]
    },
    {
      "cell_type": "markdown",
      "metadata": {
        "id": "cMowHGrLF-U9"
      },
      "source": [
        "Com os dados acima, podemos concluir que: Média Aritmética > Mediana > Moda. Ou seja, Moda < Mediana < Média Aritmética.\n",
        "\n",
        "**Questão 2**\n",
        "\n",
        "Reposta: Alternativa C.\n",
        "\n"
      ]
    },
    {
      "cell_type": "code",
      "metadata": {
        "id": "n4wC3n0pGxxU",
        "colab": {
          "base_uri": "https://localhost:8080/"
        },
        "outputId": "978fe849-1637-42d0-c55b-1f489f9cc65d"
      },
      "source": [
        "#QUESTÃO 3: \n",
        "#COnclusão sobre desvio padrão, média e coeficiente de variância dos dois times\n",
        "\n",
        "def cv(n):\n",
        "  num = 100*st.stdev(n)/st.mean(n)\n",
        "  return round(num,2)\n",
        "\n",
        "\n",
        "#PSG\n",
        "print(\"Média aritmética do PSG:\", st.mean(psg_salarios))\n",
        "print(\"Desvio-padrão AMOSTRAL do PSG:\", round(st.stdev(psg_salarios),5))\n",
        "print(\"Desvio-padrão POPULACIONAL do PSG:\", round(st.pstdev(psg_salarios),5))\n",
        "print(\"CV(%) do PSG:\", cv(psg_salarios))\n",
        "\n",
        "print(\"\\n\")\n",
        "\n",
        "#Real\n",
        "print(\"Média aritmética do Real:\", st.mean(real_salarios))\n",
        "print(\"Desvio-padrão AMOSTRAL do Real:\", round(st.stdev(real_salarios),5))\n",
        "print(\"Desvio-padrão POPULACIONAL do Real:\", round(st.pstdev(real_salarios),5))\n",
        "print(\"CV(%) do Real:\", cv(real_salarios))"
      ],
      "execution_count": null,
      "outputs": [
        {
          "output_type": "stream",
          "text": [
            "Média aritmética do PSG: 16.6\n",
            "Desvio-padrão AMOSTRAL do PSG: 8.22192\n",
            "Desvio-padrão POPULACIONAL do PSG: 7.8\n",
            "CV(%) do PSG: 49.53\n",
            "\n",
            "\n",
            "Média aritmética do Real: 10.9\n",
            "Desvio-padrão AMOSTRAL do Real: 2.64365\n",
            "Desvio-padrão POPULACIONAL do Real: 2.50799\n",
            "CV(%) do Real: 24.25\n"
          ],
          "name": "stdout"
        }
      ]
    },
    {
      "cell_type": "markdown",
      "metadata": {
        "id": "kE3Kwd0qIQJk"
      },
      "source": [
        "Conclusões:\n",
        "*   Média do PSG > Média do Real\n",
        "*   Desvio-padrão amostral do PSG > Desvio-padrão amostral do Real\n",
        "*   Desvio-padrão (A/P) do PSG > Desvio-padrão (A/P) do Real\n",
        "*   CV do PSG > CV do PSG\n",
        "\n",
        "**QUESTÃO 3**\n",
        "\n",
        "Resposta: Alternativa D: \"Tanto a média quanto o coeficiente de variação são menores no time do Real.\"\n",
        "\n",
        "\n"
      ]
    },
    {
      "cell_type": "code",
      "metadata": {
        "id": "ZzZPLq1cOQ_B",
        "colab": {
          "base_uri": "https://localhost:8080/"
        },
        "outputId": "5d947072-8b6d-4d7f-9c0d-ee9c4af4cda8"
      },
      "source": [
        "#QUESTÃO 4: \n",
        "#Amplitude inter-quartis do Real\n",
        "print(\"Quartis do Real: \", np.quantile(real_salarios, [0, 0.25, 0.5, 0.75, 1]))\n",
        "\n",
        "#q75, q25 = np.percentile(real_salarios, [75 ,25])\n",
        "#print(\"IQR: \", q75 - q25)\n",
        "\n",
        "print(\"IQR: \", stats.iqr(real_salarios)) #"
      ],
      "execution_count": null,
      "outputs": [
        {
          "output_type": "stream",
          "text": [
            "Quartis do Real:  [ 7.   9.  10.5 12.  15. ]\n",
            "IQR:  3.0\n"
          ],
          "name": "stdout"
        }
      ]
    },
    {
      "cell_type": "markdown",
      "metadata": {
        "id": "d8qPIA8ia5lO"
      },
      "source": [
        "**QUESTÃO 4**\n",
        "\n",
        "Resposta: Alternativa B: 3. "
      ]
    },
    {
      "cell_type": "markdown",
      "metadata": {
        "id": "TMntrFMfRe3l"
      },
      "source": [
        "QUESTÃO 5:\n",
        "\n",
        "Em qual ou quais times há outiler(s)?\n"
      ]
    },
    {
      "cell_type": "code",
      "metadata": {
        "id": "2V9WsXE2RYlV",
        "colab": {
          "base_uri": "https://localhost:8080/",
          "height": 352
        },
        "outputId": "f340254f-8e19-4862-8820-99ace0135639"
      },
      "source": [
        "sb.boxplot(psg_salarios).set_title('Salários dos jogadores do PSG')"
      ],
      "execution_count": null,
      "outputs": [
        {
          "output_type": "stream",
          "text": [
            "/usr/local/lib/python3.6/dist-packages/seaborn/_decorators.py:43: FutureWarning: Pass the following variable as a keyword arg: x. From version 0.12, the only valid positional argument will be `data`, and passing other arguments without an explicit keyword will result in an error or misinterpretation.\n",
            "  FutureWarning\n"
          ],
          "name": "stderr"
        },
        {
          "output_type": "execute_result",
          "data": {
            "text/plain": [
              "Text(0.5, 1.0, 'Salários dos jogadores do PSG')"
            ]
          },
          "metadata": {
            "tags": []
          },
          "execution_count": 36
        },
        {
          "output_type": "display_data",
          "data": {
            "image/png": "[encoded data removed]",
            "text/plain": [
              "<Figure size 432x288 with 1 Axes>"
            ]
          },
          "metadata": {
            "tags": [],
            "needs_background": "light"
          }
        }
      ]
    },
    {
      "cell_type": "code",
      "metadata": {
        "id": "ZlSFJbjMRZrh",
        "colab": {
          "base_uri": "https://localhost:8080/",
          "height": 352
        },
        "outputId": "1b1dcd03-6ecd-4050-c874-b55807c000b0"
      },
      "source": [
        "sb.boxplot(real_salarios).set_title('Salários dos jogadores do Real')"
      ],
      "execution_count": null,
      "outputs": [
        {
          "output_type": "stream",
          "text": [
            "/usr/local/lib/python3.6/dist-packages/seaborn/_decorators.py:43: FutureWarning: Pass the following variable as a keyword arg: x. From version 0.12, the only valid positional argument will be `data`, and passing other arguments without an explicit keyword will result in an error or misinterpretation.\n",
            "  FutureWarning\n"
          ],
          "name": "stderr"
        },
        {
          "output_type": "execute_result",
          "data": {
            "text/plain": [
              "Text(0.5, 1.0, 'Salários dos jogadores do Real')"
            ]
          },
          "metadata": {
            "tags": []
          },
          "execution_count": 37
        },
        {
          "output_type": "display_data",
          "data": {
            "image/png": "[encoded data removed]",
            "text/plain": [
              "<Figure size 432x288 with 1 Axes>"
            ]
          },
          "metadata": {
            "tags": [],
            "needs_background": "light"
          }
        }
      ]
    },
    {
      "cell_type": "markdown",
      "metadata": {
        "id": "pPtq3H2JRld-"
      },
      "source": [
        "Com os gráficos acima, podemos ver que somente o PSG possui ocorrência de outiler.\n",
        "\n",
        "**QUESTÃO 5**\n",
        "\n",
        "Resposta: Alternativa A: \"PSG\"."
      ]
    },
    {
      "cell_type": "code",
      "metadata": {
        "id": "9W6Woao4Rw-9"
      },
      "source": [
        "#QUESTÃO 6:\n",
        "# Média, mediana e moda do desempenho do Real\n",
        "#(nº de gols, frequência)\n",
        "\n",
        "x = {0:5, 1:3, 2:4, 3:3, 4:2, 5:2, 7:1}\n",
        "freq = list(x.values())"
      ],
      "execution_count": null,
      "outputs": []
    },
    {
      "cell_type": "code",
      "metadata": {
        "id": "xrHVf1bVVWJH",
        "colab": {
          "base_uri": "https://localhost:8080/"
        },
        "outputId": "bb0de676-ea7e-4dc2-9cdf-3af8896a8cbd"
      },
      "source": [
        "print(\"Média aritmética de FREQUÊNCIA do Real:\", st.mean(freq))\n",
        "print(\"Mediana de FREQUÊNCIA do Real:\", st.median(freq))\n",
        "#print(\"Moda de FREQUÊNCIA do Real:\", st.mode(freq))\n",
        "cont_freq = Counter(freq)\n",
        "print(\"Moda de FREQUÊNCIA do Real:\", cont_freq)"
      ],
      "execution_count": null,
      "outputs": [
        {
          "output_type": "stream",
          "text": [
            "Média aritmética de FREQUÊNCIA do Real: 2.857142857142857\n",
            "Mediana de FREQUÊNCIA do Real: 3\n",
            "Moda de FREQUÊNCIA do Real: Counter({3: 2, 2: 2, 5: 1, 4: 1, 1: 1})\n"
          ],
          "name": "stdout"
        }
      ]
    },
    {
      "cell_type": "code",
      "metadata": {
        "id": "-PK3dLSiZ0CI",
        "colab": {
          "base_uri": "https://localhost:8080/"
        },
        "outputId": "607ef492-ff49-4505-bc01-70998102a738"
      },
      "source": [
        "print(\"Números mais frequentes: 3, 2\")\n",
        "print(\"Média aritmética (MODA CALCULADA): \", (3+2)/2)"
      ],
      "execution_count": null,
      "outputs": [
        {
          "output_type": "stream",
          "text": [
            "Números mais frequentes: 3, 2\n",
            "Média aritmética (MODA CALCULADA):  2.5\n"
          ],
          "name": "stdout"
        }
      ]
    },
    {
      "cell_type": "markdown",
      "metadata": {
        "id": "jhi26NkzaFsW"
      },
      "source": [
        "Considere X = MÉDIA = 2.8571, \n",
        "Y = MEDIANA = 3\n",
        "e Z = MODA = 2.5. \n",
        "\n",
        "Sobre os achados, podemos concluir que:\n",
        "*   Y > X > Z\n",
        "*   Z < X < Y\n",
        "\n",
        "**QUESTÃO 6**\n",
        "\n",
        "Resposta: Alternativa C: Z < X < Y."
      ]
    },
    {
      "cell_type": "code",
      "metadata": {
        "id": "mPq1oLmBjldL",
        "colab": {
          "base_uri": "https://localhost:8080/"
        },
        "outputId": "8deb6181-f370-44db-973f-e6321ecd9811"
      },
      "source": [
        "print(\"Freq meu: \", freq)\n",
        "print(\"Freq do professor: \", freq2)"
      ],
      "execution_count": null,
      "outputs": [
        {
          "output_type": "stream",
          "text": [
            "Freq meu:  [5, 3, 4, 3, 2, 2, 1]\n",
            "Freq do professor:  [5, 3, 4, 3, 2, 2, 1]\n"
          ],
          "name": "stdout"
        }
      ]
    },
    {
      "cell_type": "code",
      "metadata": {
        "id": "UeiPxvpogaVt",
        "colab": {
          "base_uri": "https://localhost:8080/"
        },
        "outputId": "dab15e3a-eb85-426a-9a4a-554d298c4057"
      },
      "source": [
        "gols = [0,1,2,3,4,5,7]\n",
        "freq2 = [5,3,4,3,2,2,1]\n",
        "\n",
        "#print(\"Moda da Turma Gol:\", st.mode(freq))\n",
        "print(\"Moda da Turma Gol:\", Counter(freq))"
      ],
      "execution_count": null,
      "outputs": [
        {
          "output_type": "stream",
          "text": [
            "Moda da Turma Gol: Counter({3: 2, 2: 2, 5: 1, 4: 1, 1: 1})\n"
          ],
          "name": "stdout"
        }
      ]
    },
    {
      "cell_type": "markdown",
      "metadata": {
        "id": "dOzRg0zSclcP"
      },
      "source": [
        "**QUESTÃO 7**\n",
        "\n",
        "Resposta suspeita: Alternativa D: \"O desvio-padrão da distribuição A é maior que o da distribuição B, e as médias são iguais.\""
      ]
    },
    {
      "cell_type": "code",
      "metadata": {
        "id": "5iRcbInIay2p"
      },
      "source": [
        "#QUESTÃO 8:\n",
        "#Média dos salários\n",
        "\n",
        "equipe_ti = {'estagiário 1': 2500,\n",
        "'estagiário 2': 2500,\n",
        "'colaborador 1':6000,\n",
        "'colaborador 2':6000,\n",
        "'colaborador 3':6000,\n",
        "'colaborador 4':6000,\n",
        "'coordenador':10000,\n",
        "'diretor 1':22000, \n",
        "'diretor 2':22000, \n",
        "'diretor 3':22000, \n",
        "}\n",
        "\n",
        "ti_salarios = list(equipe_ti.values())"
      ],
      "execution_count": null,
      "outputs": []
    },
    {
      "cell_type": "code",
      "metadata": {
        "id": "7sSCKRc2imJy",
        "colab": {
          "base_uri": "https://localhost:8080/"
        },
        "outputId": "04a9d78f-f161-4cdf-bb14-541a35b9f359"
      },
      "source": [
        "print(\"Média dos salários da equipe de TI:\", st.mean(ti_salarios))"
      ],
      "execution_count": null,
      "outputs": [
        {
          "output_type": "stream",
          "text": [
            "Média dos salários da equipe de TI: 10500\n"
          ],
          "name": "stdout"
        }
      ]
    },
    {
      "cell_type": "markdown",
      "metadata": {
        "id": "7x86iC3nkfT1"
      },
      "source": [
        "**QUESTÃO 8**\n",
        "\n",
        "Resposta: ALternativa D: \"Nenhuma das alternativas anteriores.\""
      ]
    },
    {
      "cell_type": "code",
      "metadata": {
        "id": "C_miUO56j1sg",
        "colab": {
          "base_uri": "https://localhost:8080/"
        },
        "outputId": "19910f48-a7af-419e-cd53-6b45e7225f41"
      },
      "source": [
        "#QUESTÃO 9:\n",
        "#\n",
        "\n",
        "direito = [9, 9, 9, 9, 9]\n",
        "#p_s = [6, 9, ]\n",
        "#est = [2, ]\n",
        "print(\"Mediana da classe de Direito:\", st.median(direito))\n",
        "print(\"Quartis da classe de Direito: \", np.quantile(direito, [0, 0.25, 0.5, 0.75, 1]))"
      ],
      "execution_count": null,
      "outputs": [
        {
          "output_type": "stream",
          "text": [
            "Mediana da classe de Direito: 9\n",
            "Quartis da classe de Direito:  [9. 9. 9. 9. 9.]\n"
          ],
          "name": "stdout"
        }
      ]
    },
    {
      "cell_type": "code",
      "metadata": {
        "id": "DAsdvl0JpXcz",
        "colab": {
          "base_uri": "https://localhost:8080/",
          "height": 353
        },
        "outputId": "53bdd4f3-e86f-4ce0-86d3-f5848b08dfd2"
      },
      "source": [
        "sb.boxplot(direito).set_title('Turma A')"
      ],
      "execution_count": null,
      "outputs": [
        {
          "output_type": "stream",
          "text": [
            "/usr/local/lib/python3.6/dist-packages/seaborn/_decorators.py:43: FutureWarning: Pass the following variable as a keyword arg: x. From version 0.12, the only valid positional argument will be `data`, and passing other arguments without an explicit keyword will result in an error or misinterpretation.\n",
            "  FutureWarning\n"
          ],
          "name": "stderr"
        },
        {
          "output_type": "execute_result",
          "data": {
            "text/plain": [
              "Text(0.5, 1.0, 'Turma A')"
            ]
          },
          "metadata": {
            "tags": []
          },
          "execution_count": 92
        },
        {
          "output_type": "display_data",
          "data": {
            "image/png": "[encoded data removed]",
            "text/plain": [
              "<Figure size 432x288 with 1 Axes>"
            ]
          },
          "metadata": {
            "tags": [],
            "needs_background": "light"
          }
        }
      ]
    },
    {
      "cell_type": "markdown",
      "metadata": {
        "id": "MgcUf_ckpiGI"
      },
      "source": [
        "POdemos concluir que:\n",
        "*   Os alunos de direito tiraram 9.\n",
        "*   Um aluno de estatística tirou 2, portanto, um outlier. \n",
        "*   \n",
        "\n"
      ]
    },
    {
      "cell_type": "markdown",
      "metadata": {
        "id": "21D5wPv-qp47"
      },
      "source": [
        "**QUESTÃO 9**\n",
        "\n",
        "Resposta: Alternativa C: \"Mediana e quartis de direito são iguais\"."
      ]
    },
    {
      "cell_type": "code",
      "metadata": {
        "id": "5-Nw5m_sq4Ap",
        "colab": {
          "base_uri": "https://localhost:8080/"
        },
        "outputId": "2054f0f5-8e56-443d-aa93-5ac33aeac652"
      },
      "source": [
        "#QUESTÃO 10\n",
        "# Qual delas é mais heterogênea (Desvio-padrão) \n",
        "\n",
        "num_atividades_x = [2,3,4,2,7,4,5,3,3,6]\n",
        "ch_y =[50, 60, 40, 50, 55, 50, 50, 45, 40, 60]\n",
        "\n",
        "print(\"Desvio-padrão AMOSTRAL de X:\", round(st.stdev(num_atividades_x),5))\n",
        "print(\"Desvio-padrão POPULACIONAL de X:\", round(st.pstdev(num_atividades_x),5))\n",
        "print(\"Curtose de X:\", round(stats.describe(num_atividades_x)[5], 5))\n",
        "\n",
        "print(\"\\n\")\n",
        "print(\"Desvio-padrão AMOSTRAL de Y:\", round(st.stdev(ch_y),5))\n",
        "print(\"Desvio-padrão POPULACIONAL de Y:\", round(st.pstdev(ch_y),5))\n",
        "print(\"Curtose de Y:\", round(stats.describe(ch_y)[5], 5))"
      ],
      "execution_count": null,
      "outputs": [
        {
          "output_type": "stream",
          "text": [
            "Desvio-padrão AMOSTRAL de X: 1.66333\n",
            "Desvio-padrão POPULACIONAL de X: 1.57797\n",
            "Curtose de X: -0.72105\n",
            "\n",
            "\n",
            "Desvio-padrão AMOSTRAL de Y: 7.07107\n",
            "Desvio-padrão POPULACIONAL de Y: 6.7082\n",
            "Curtose de Y: -0.96296\n"
          ],
          "name": "stdout"
        }
      ]
    },
    {
      "cell_type": "markdown",
      "metadata": {
        "id": "UYaU-vldvJr_"
      },
      "source": [
        "Podemos concluir que o desvio-padrão de Y é maior que o de X. Os valores da curtose também evidenciam isso. \n",
        "\n",
        "**QUESTÃO 10**\n",
        "\n",
        "Resposta: Alternativa B: \"Y apresentou maior variabilidade, ou seja, é mais heterogênea.\""
      ]
    },
    {
      "cell_type": "markdown",
      "metadata": {
        "id": "xo-jAwvXGMmF"
      },
      "source": [
        "#**Respostas Corretas**\n",
        "Só das questões que errei:\n",
        "\n",
        "Q6: Z < Y < X (ALternativa D)\n",
        "\n",
        "Q7: Nenhuma resposta correta.\n",
        "\n",
        "Q10: X apresentou maior variabilidade, ou seja, é mais heterogêna. (Alternativa A)"
      ]
    }
  ]
}