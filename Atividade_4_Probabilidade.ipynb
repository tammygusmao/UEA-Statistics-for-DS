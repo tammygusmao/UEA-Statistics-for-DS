{
  "nbformat": 4,
  "nbformat_minor": 0,
  "metadata": {
    "colab": {
      "name": "Atividade 4.ipynb",
      "provenance": [],
      "collapsed_sections": []
    },
    "kernelspec": {
      "name": "python3",
      "display_name": "Python 3"
    }
  },
  "cells": [
    {
      "cell_type": "code",
      "metadata": {
        "id": "NwyGsAme6h7d",
        "colab": {
          "base_uri": "https://localhost:8080/"
        },
        "outputId": "f3357b06-b55f-460b-de7a-761f5525a3ed"
      },
      "source": [
        "# Pacotes\n",
        "from statsmodels.stats.proportion import proportions_ztest, binom_test\n",
        "from scipy.stats import binom, ttest_1samp, ttest_ind, chi2_contingency\n",
        "import pandas as pd\n",
        "import numpy as np\n",
        "import matplotlib.pyplot as plt\n",
        "from tabulate import tabulate"
      ],
      "execution_count": null,
      "outputs": [
        {
          "output_type": "stream",
          "text": [
            "/usr/local/lib/python3.6/dist-packages/statsmodels/tools/_testing.py:19: FutureWarning: pandas.util.testing is deprecated. Use the functions in the public API at pandas.testing instead.\n",
            "  import pandas.util.testing as tm\n"
          ],
          "name": "stderr"
        }
      ]
    },
    {
      "cell_type": "code",
      "metadata": {
        "id": "eiiHkkyU61Tm"
      },
      "source": [
        "#Tabela para as questões 1, 2 e 3\n",
        "\n",
        "headers = ['Sexo', 'Cigarros s/filtro', 'Cigarros c/filtro', 'Não Fumam', 'Total']\n",
        "\n",
        "tabela = [\n",
        "          ['Masculino', 12, 4, 64, 90],\n",
        "          ['Feminino', 8, 16, 26, 50],\n",
        "          ['Total', 20, 30, 90, 140]\n",
        "]"
      ],
      "execution_count": null,
      "outputs": []
    },
    {
      "cell_type": "markdown",
      "metadata": {
        "id": "--yQmjcX6olB"
      },
      "source": [
        "**Questão 1**\n",
        "\n",
        "Testar a hipótese de que a proporção de fumantes é 50% ao nível de 5% de significância.\n",
        "\n"
      ]
    },
    {
      "cell_type": "code",
      "metadata": {
        "id": "VbLqRycV9lx-"
      },
      "source": [
        "Po = 0.5\n",
        "n = 140 #140 é o total da amostragem; 90 pessoas não fumam. \n",
        "x = 140 - 90\n",
        "alfa = 0.05"
      ],
      "execution_count": null,
      "outputs": []
    },
    {
      "cell_type": "code",
      "metadata": {
        "id": "wIjuHmeW6vv8",
        "colab": {
          "base_uri": "https://localhost:8080/"
        },
        "outputId": "66693e52-31cc-403a-ec85-10247e2ee49b"
      },
      "source": [
        "z, p = proportions_ztest(x, n, Po, alternative='two-sided', prop_var = Po)\n",
        "#prop_var = Po\n",
        "\n",
        "# Conclusão:\n",
        "print('z = %0.2f, p = %0.3f\\n' % (z, p))\n",
        "\n",
        "if p > alfa:\n",
        "   print (\"Conclusão: aceita-se Ho, ou seja, a proproção é igual a 50% ao nível de 5% de significância\")\n",
        "else:\n",
        "   print (\"Conclusão: rejeita-se Ho, ou seja, a proproção é diferente de 50% ao nível de 5% de significância\")"
      ],
      "execution_count": null,
      "outputs": [
        {
          "output_type": "stream",
          "text": [
            "z = -3.38, p = 0.001\n",
            "\n",
            "Conclusão: rejeita-se Ho, ou seja, a proproção é diferente de 50% ao nível de 5% de significância\n"
          ],
          "name": "stdout"
        }
      ]
    },
    {
      "cell_type": "markdown",
      "metadata": {
        "id": "Qb5iOsxWEjbA"
      },
      "source": [
        "Resposta: Alternativa D: Valor Zcal = -3,38; devemos rejeitar Ho."
      ]
    },
    {
      "cell_type": "markdown",
      "metadata": {
        "id": "4YKErhxwFcCa"
      },
      "source": [
        "**Questão 2**\n",
        "\n",
        "Testar a hipótese de que a proporção dos funcionários que fumam cigarros com filtro é 25% ao nível de 10% de significância."
      ]
    },
    {
      "cell_type": "code",
      "metadata": {
        "id": "z_U_WhSvFiGU",
        "colab": {
          "base_uri": "https://localhost:8080/"
        },
        "outputId": "2581d5f0-f008-49d8-fa54-a6aa00312a71"
      },
      "source": [
        "Po = 0.25\n",
        "n = 140\n",
        "x = 30 #fumam com filtro\n",
        "alfa = 0.1\n",
        "\n",
        "z, p = proportions_ztest(x, n, Po, alternative='two-sided', prop_var= Po)\n",
        "\n",
        "# Conclusão:\n",
        "print('z = %0.3f, p = %0.3f\\n' % (z, p))\n",
        "\n",
        "if p > alfa:\n",
        "   print (\"Conclusão: aceita-se Ho, ou seja, a proproção é igual a 25% ao nível de 10% de significância\")\n",
        "else:\n",
        "   print (\"Conclusão: rejeita-se Ho, ou seja, a proproção é diferente de 25% ao nível de 10% de significância\")"
      ],
      "execution_count": null,
      "outputs": [
        {
          "output_type": "stream",
          "text": [
            "z = -0.976, p = 0.329\n",
            "\n",
            "Conclusão: aceita-se Ho, ou seja, a proproção é igual a 50% ao nível de 5% de significância\n"
          ],
          "name": "stdout"
        }
      ]
    },
    {
      "cell_type": "markdown",
      "metadata": {
        "id": "1-hQ7qHiG3FM"
      },
      "source": [
        "Resposta: Alternativa A: Valor Zcal = -0,97; devemos aceitar Ho."
      ]
    },
    {
      "cell_type": "markdown",
      "metadata": {
        "id": "rO9dRCITG9Nc"
      },
      "source": [
        "**Questão 3**\n",
        "\n",
        "Podemos dizer que a proporção de fumantes do sexo feminino é maior que 15% ao nível de 1% de significância?"
      ]
    },
    {
      "cell_type": "code",
      "metadata": {
        "id": "2jC0evvK8ADC",
        "colab": {
          "base_uri": "https://localhost:8080/"
        },
        "outputId": "2da6aa0f-199d-44eb-f3d9-9feaf614cdc6"
      },
      "source": [
        "print(tabulate(tabela, headers=headers, floatfmt=\".4f\", numalign=\"right\"))"
      ],
      "execution_count": null,
      "outputs": [
        {
          "output_type": "stream",
          "text": [
            "Sexo         Cigarros s/filtro    Cigarros c/filtro    Não Fumam    Total\n",
            "---------  -------------------  -------------------  -----------  -------\n",
            "Masculino                   12                    4           64       90\n",
            "Feminino                     8                   16           26       50\n",
            "Total                       20                   30           90      140\n"
          ],
          "name": "stdout"
        }
      ]
    },
    {
      "cell_type": "code",
      "metadata": {
        "id": "MTBw-yepHDUC",
        "colab": {
          "base_uri": "https://localhost:8080/"
        },
        "outputId": "7c1a7419-d0eb-49f9-9973-2424084b3249"
      },
      "source": [
        "Po = 0.12\n",
        "n = 140\n",
        "x = 50 - 26 #total de mulheres menos não fumantes\n",
        "alfa = 0.01\n",
        "\n",
        "z, p = proportions_ztest(x, n, Po, alternative='two-sided', prop_var= Po)\n",
        "\n",
        "# Conclusão:\n",
        "print('z = %0.3f, p = %0.3f\\n' % (z, p))\n",
        "\n",
        "if p > alfa:\n",
        "   print (\"Conclusão: aceita-se Ho, ou seja, a proproção é igual a 15% ao nível de 1% de significância\")\n",
        "else:\n",
        "   print (\"Conclusão: rejeita-se Ho, ou seja, a proproção é diferente de 15% ao nível de 1% de significância\")"
      ],
      "execution_count": null,
      "outputs": [
        {
          "output_type": "stream",
          "text": [
            "z = 1.873, p = 0.061\n",
            "\n",
            "Conclusão: aceita-se Ho, ou seja, a proproção é igual a 15% ao nível de 1% de significância\n"
          ],
          "name": "stdout"
        }
      ]
    },
    {
      "cell_type": "markdown",
      "metadata": {
        "id": "ds-ySverH46v"
      },
      "source": [
        "Resposta: Alternativa A: Sim, pois o valor do Z calculado foi maior que o Z tabelado."
      ]
    },
    {
      "cell_type": "markdown",
      "metadata": {
        "id": "hAQ_W0tHS0cW"
      },
      "source": [
        "RESPOSTA CORRETA: ALTERNATIVA D: Não, pois o valor do Z calculado foi menor que o Z tabelado."
      ]
    },
    {
      "cell_type": "markdown",
      "metadata": {
        "id": "u_piijYCIBNp"
      },
      "source": [
        "**Questão 4**\n",
        "\n",
        "Lança-se uma moeda 100 vezes e obtém-se 60 caras. Testar ao nível de 5% a hipótese de que a moeda é honesta."
      ]
    },
    {
      "cell_type": "code",
      "metadata": {
        "id": "X2D5gROEIFxt",
        "colab": {
          "base_uri": "https://localhost:8080/"
        },
        "outputId": "337ac313-85a3-41c7-d629-7d60da1cd735"
      },
      "source": [
        "Po = 0.5\n",
        "n = 100\n",
        "x = 60\n",
        "alfa = 0.05\n",
        "\n",
        "z, p = proportions_ztest(x, n, Po, alternative='two-sided', prop_var= Po)\n",
        "\n",
        "#Ho = moeada é honesta\n",
        "#H1 = moeda não é honesta\n",
        "\n",
        "# Conclusão:\n",
        "print('z = %0.3f, p = %0.3f\\n' % (z, p))\n",
        "\n",
        "if p > alfa:\n",
        "   print (\"Conclusão: aceita-se Ho, ou seja, a proproção é igual a 50% ao nível de 5% de significância\")\n",
        "else:\n",
        "   print (\"Conclusão: rejeita-se Ho, ou seja, a proproção é diferente de 50% ao nível de 5% de significância\")"
      ],
      "execution_count": null,
      "outputs": [
        {
          "output_type": "stream",
          "text": [
            "z = 2.000, p = 0.046\n",
            "\n",
            "Conclusão: rejeita-se Ho, ou seja, a proproção é diferente de 50% ao nível de 5% de significância\n"
          ],
          "name": "stdout"
        }
      ]
    },
    {
      "cell_type": "markdown",
      "metadata": {
        "id": "79SdqAHuKm0A"
      },
      "source": [
        "Alternativa B: Valor do Zcal = 2; a moeda é viciada."
      ]
    },
    {
      "cell_type": "markdown",
      "metadata": {
        "id": "XXxuJ4p1K3T5"
      },
      "source": [
        "**Questão 5**\n",
        "\n",
        "A experiência tem demonstrado que 40% dos estudantes são reprovados num exame de estatística. Se 40 de 90 estudantes fossem reprovados, poderíamos concluir que esses estudantes são inferiores em Estatística? α = 5%."
      ]
    },
    {
      "cell_type": "code",
      "metadata": {
        "id": "jWhsIYtBK2Y2",
        "colab": {
          "base_uri": "https://localhost:8080/"
        },
        "outputId": "f2953dd8-a125-485e-9476-1d93d7307cd8"
      },
      "source": [
        "Po = 0.4\n",
        "n = 90\n",
        "x = 40\n",
        "alfa = 0.05\n",
        "\n",
        "z, p = proportions_ztest(x, n, Po, alternative='two-sided', prop_var= Po)\n",
        "# # Caso seja unilateral a direita alternative='greater', caso contrário alternative = 'less'. \n",
        "\n",
        "#Ho = são inferiores\n",
        "#H1 = não são inferiores\n",
        "\n",
        "# Conclusão:\n",
        "print('z = %0.2f, p = %0.3f\\n' % (z, p))\n",
        "\n",
        "if p > alfa:\n",
        "   print (\"Conclusão: aceita-se Ho, ou seja, a proproção é igual a 40% ao nível de 5% de significância\")\n",
        "else:\n",
        "   print (\"Conclusão: rejeita-se Ho, ou seja, a proproção é diferente de 40% ao nível de 5% de significância\")"
      ],
      "execution_count": null,
      "outputs": [
        {
          "output_type": "stream",
          "text": [
            "z = 0.86, p = 0.389\n",
            "\n",
            "Conclusão: aceita-se Ho, ou seja, a proproção é igual a 40% ao nível de 5% de significância\n"
          ],
          "name": "stdout"
        }
      ]
    },
    {
      "cell_type": "markdown",
      "metadata": {
        "id": "U3PRyMAmMYJR"
      },
      "source": [
        "Resposta: Alternativa A: Valor do Zcal = 0,85; teste bilateral, Ho deve ser aceito.\n",
        "\n",
        "Biletaral por conta do \"two-sided\"."
      ]
    },
    {
      "cell_type": "markdown",
      "metadata": {
        "id": "pwwzAv1zS8ur"
      },
      "source": [
        "RESPOSTA CORRETA: ALTERNATIVA B: Valor do Zcal = 0,85; teste unilateral a direita, Ho deve ser aceito."
      ]
    },
    {
      "cell_type": "markdown",
      "metadata": {
        "id": "X9RMhVUnM_tT"
      },
      "source": [
        "**Questão 6**\n",
        "\n",
        "Em certo banco de dados, o tempo para a realização das buscas é aproximadamente normal, com média de 53s e desvio padrão de 14s. Depois de realizadas algumas modificações no sistema, observou-se que, em 30 consultas, o tempo médio caiu para 45s. Há evidências de melhora? Admita que as 30 observações possam ser consideradas de uma amostra aleatória e que não houve alteração na variância. α = 1%. "
      ]
    },
    {
      "cell_type": "code",
      "metadata": {
        "id": "a6iTYt-zqEiP",
        "colab": {
          "base_uri": "https://localhost:8080/"
        },
        "outputId": "a96d1666-cf75-4f60-92d2-a07a94f51dc9"
      },
      "source": [
        "x = 45\n",
        "n = 30\n",
        "variancia = 14\n",
        "media = 53\n",
        "alfa = 0.01\n",
        "\n",
        "z = ((x - media) * np.sqrt(n)) / variancia\n",
        "print(round(z,2))\n",
        "\n",
        "if z > alfa:\n",
        "   print (\"Conclusão: aceita-se Ho\")\n",
        "else:\n",
        "   print (\"Conclusão: rejeita-se Ho\")"
      ],
      "execution_count": null,
      "outputs": [
        {
          "output_type": "stream",
          "text": [
            "-3.13\n",
            "Conclusão: rejeita-se Ho\n"
          ],
          "name": "stdout"
        }
      ]
    },
    {
      "cell_type": "markdown",
      "metadata": {
        "id": "zI7mpyHzrR9z"
      },
      "source": [
        "Resposta: Alternativa D: Não, pois o valor de Zcal = -3,13."
      ]
    },
    {
      "cell_type": "markdown",
      "metadata": {
        "id": "0pksp-QETIx3"
      },
      "source": [
        "RESPOSTA CORRETA: ALTERNATIVA C: Sim, pois o valor de Zcal = -3,13."
      ]
    },
    {
      "cell_type": "markdown",
      "metadata": {
        "id": "EsLFy-F0s8qB"
      },
      "source": [
        "**Questão 7**\n",
        "\n",
        "Uma fábrica de automóveis anuncia que seus carros consomem, em média, 11 litros por 100 km, com desvio padrão de 0,8 litro. Uma revista decide testar essa afirmação e analisa 35 carros dessa marca, obtendo 11,4 litros por 100 km, como consumo médio. Admitindo que o consumo tenha distribuição normal, ao nível de 10%, o que a revista concluirá sobre o anúncio da fábrica?\n"
      ]
    },
    {
      "cell_type": "code",
      "metadata": {
        "id": "vXlsk5pttEEe",
        "colab": {
          "base_uri": "https://localhost:8080/"
        },
        "outputId": "ade9f16f-4aae-4e64-8503-c2a40fa86554"
      },
      "source": [
        "x = 11.4 \n",
        "n = 35\n",
        "#desvio-padrão = raiz quadrada de variância\n",
        "dp = 0.8\n",
        "variancia = dp\n",
        "media = 11 \n",
        "alfa = 0.10\n",
        "\n",
        "z = ((x - media) * np.sqrt(n)) / variancia\n",
        "print(round(z))\n",
        "\n",
        "if z > alfa:\n",
        "   print (\"Conclusão: aceita-se Ho\")\n",
        "else:\n",
        "   print (\"Conclusão: rejeita-se Ho\")"
      ],
      "execution_count": null,
      "outputs": [
        {
          "output_type": "stream",
          "text": [
            "3.0\n",
            "Conclusão: aceita-se Ho\n"
          ],
          "name": "stdout"
        }
      ]
    },
    {
      "cell_type": "markdown",
      "metadata": {
        "id": "xacQIcQsznjw"
      },
      "source": [
        "Resposta: Alternativa D: Zcal = 3, o consumo não é igual a 11L/100km ao nível de 10% de significância"
      ]
    },
    {
      "cell_type": "markdown",
      "metadata": {
        "id": "LDTqXBorzqVq"
      },
      "source": [
        "**Questão 8**\n",
        "\n",
        "A associação dos proprietários de indústrias metalúrgicas está muito preocupada com o tempo perdido com acidentes de trabalho, cuja média da distribuição normal, nos últimos tempos, tem sido da ordem de 60 horas/homem por ano. Testou-se um programa de prevenção de acidentes e, após o mesmo, tomou-se uma amostra de 9 indústrias e mediu-se o número de horas/homens perdidas por acidente, que foi de 50 horas com desvio-padrão de 20 horas. Você diria, ao nível de significância de 5%, que há evidência de que o tempo diminuiu?"
      ]
    },
    {
      "cell_type": "code",
      "metadata": {
        "id": "swI8zP5L0FC6",
        "colab": {
          "base_uri": "https://localhost:8080/"
        },
        "outputId": "43133aed-2247-4807-dcde-7fe5e9b63c09"
      },
      "source": [
        "x = 50\n",
        "n = 9\n",
        "#desvio-padrão = raiz quadrada de variância\n",
        "dp = 20\n",
        "variancia = dp\n",
        "media = 60\n",
        "alfa = 0.05\n",
        "\n",
        "z = ((x - media) * np.sqrt(n)) / variancia\n",
        "print(\"z =\", z)\n",
        "\n",
        "#p = binom_test(n, , 1 - alfa, alternative='two-sided')\n",
        "#print(\"p = \", p)\n",
        "\n",
        "if z > alfa:\n",
        "   print (\"Conclusão: aceita-se Ho\")\n",
        "else:\n",
        "   print (\"Conclusão: rejeita-se Ho\")"
      ],
      "execution_count": null,
      "outputs": [
        {
          "output_type": "stream",
          "text": [
            "z = -1.5\n",
            "Conclusão: rejeita-se Ho\n"
          ],
          "name": "stdout"
        }
      ]
    },
    {
      "cell_type": "markdown",
      "metadata": {
        "id": "k0tRBFZD4UuK"
      },
      "source": [
        "Ho: media = 60 vs Ha: media < 60\n",
        "\n",
        "Zc = -1,5 \n",
        "\n",
        "Z5% = -1,64\n",
        "\n",
        "Não se rejeita Ho"
      ]
    },
    {
      "cell_type": "markdown",
      "metadata": {
        "id": "Dw_ey36t4wRs"
      },
      "source": [
        "Resposta: Alternativa A: Zcal = -1,5, o tempo diminuiu ao nível de 5% de significância. "
      ]
    },
    {
      "cell_type": "markdown",
      "metadata": {
        "id": "xgS8Cv5uTVlA"
      },
      "source": [
        "RESPOSTA CORRETA: ALTERNATIVA C: Tcal = -1,5, o tempo não diminuiu ao nível de 5% de significância."
      ]
    }
  ]
}